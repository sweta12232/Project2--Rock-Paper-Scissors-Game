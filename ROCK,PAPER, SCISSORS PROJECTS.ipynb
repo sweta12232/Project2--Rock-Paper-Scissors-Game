{
 "cells": [
  {
   "cell_type": "code",
   "execution_count": null,
   "id": "61198dfd",
   "metadata": {},
   "outputs": [
    {
     "name": "stdin",
     "output_type": "stream",
     "text": [
      "Enter Rock, Paper or Scissors (exit to quit):  rock\n"
     ]
    },
    {
     "name": "stdout",
     "output_type": "stream",
     "text": [
      "Your choice: Rock, Computer choice: Rock, and the winner is: Computer is the winner\n"
     ]
    }
   ],
   "source": [
    "import random\n",
    "\n",
    "def get_computer_choice():\n",
    "    com_choices = ['Rock', 'Paper', 'Scissors']\n",
    "    return random.choice(com_choices)\n",
    "\n",
    "def get_users_choice():\n",
    "    while True:\n",
    "        user_input = input(\"Enter Rock, Paper or Scissors (exit to quit): \").lower()\n",
    "        if user_input in ['rock', 'paper', 'scissors', 'exit']:\n",
    "            return user_input\n",
    "        else:\n",
    "            print(\"Invalid input. Please enter either rock, paper, or scissors.\")\n",
    "\n",
    "def who_win(user_choice, com_choice):\n",
    "    if user_choice == com_choice:\n",
    "        return \"It's a tie\"\n",
    "    elif (user_choice == 'scissors' and com_choice == \"paper\") or (user_choice == 'rock' and com_choice == 'scissors') or (user_choice == 'paper' and com_choice =='rock'):\n",
    "        return \"You are the winner!\"\n",
    "    else:\n",
    "        return \"Computer is the winner\"\n",
    "\n",
    "def start_play():\n",
    "    while True:\n",
    "        com_choice = get_computer_choice()\n",
    "        user_choice = get_users_choice()\n",
    "        if user_choice == 'exit':\n",
    "            break\n",
    "        winner = who_win(user_choice, com_choice)\n",
    "        print(f'Your choice: {user_choice.capitalize()}, Computer choice: {com_choice}, and the winner is: {winner}')\n",
    "\n",
    "start_play()"
   ]
  },
  {
   "cell_type": "code",
   "execution_count": null,
   "id": "4f285eba-8a09-4526-bec6-07e1ce873e19",
   "metadata": {},
   "outputs": [],
   "source": []
  }
 ],
 "metadata": {
  "kernelspec": {
   "display_name": "Python 3 (ipykernel)",
   "language": "python",
   "name": "python3"
  },
  "language_info": {
   "codemirror_mode": {
    "name": "ipython",
    "version": 3
   },
   "file_extension": ".py",
   "mimetype": "text/x-python",
   "name": "python",
   "nbconvert_exporter": "python",
   "pygments_lexer": "ipython3",
   "version": "3.11.7"
  }
 },
 "nbformat": 4,
 "nbformat_minor": 5
}
